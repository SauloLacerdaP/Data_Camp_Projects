{
 "cells": [
  {
   "cell_type": "markdown",
   "id": "d639c562",
   "metadata": {},
   "source": [
    "You have been asked to support a team of researchers who have been collecting data about penguins in Antartica! The data is available in csv-Format as `penguins.csv`\n",
    "\n",
    "**Origin of this data** : Data were collected and made available by Dr. Kristen Gorman and the Palmer Station, Antarctica LTER, a member of the Long Term Ecological Research Network.\n",
    "\n",
    "**The dataset consists of 5 columns.**\n",
    "\n",
    "Column | Description\n",
    "--- | ---\n",
    "culmen_length_mm | culmen length (mm)\n",
    "culmen_depth_mm | culmen depth (mm)\n",
    "flipper_length_mm | flipper length (mm)\n",
    "body_mass_g | body mass (g)\n",
    "sex | penguin sex\n",
    "\n",
    "Unfortunately, they have not been able to record the species of penguin, but they know that there are **at least three** species that are native to the region: **Adelie**, **Chinstrap**, and **Gentoo**.  Your task is to apply your data science skills to help them identify groups in the dataset!"
   ]
  },
  {
   "cell_type": "code",
   "execution_count": null,
   "id": "4e104b9c",
   "metadata": {
    "vscode": {
     "languageId": "plaintext"
    }
   },
   "outputs": [],
   "source": [
    "# Import Required Packages\n",
    "import pandas as pd\n",
    "import matplotlib.pyplot as plt\n",
    "import seaborn as sns\n",
    "from sklearn.cluster import KMeans\n",
    "from sklearn.preprocessing import StandardScaler"
   ]
  },
  {
   "cell_type": "code",
   "execution_count": null,
   "id": "b9fa9865",
   "metadata": {
    "vscode": {
     "languageId": "plaintext"
    }
   },
   "outputs": [],
   "source": [
    "# Loading and examining the dataset\n",
    "penguins_df = pd.read_csv(\"penguins.csv\")\n",
    "penguins_df.head()"
   ]
  },
  {
   "cell_type": "code",
   "execution_count": null,
   "id": "d92f5972",
   "metadata": {
    "vscode": {
     "languageId": "plaintext"
    }
   },
   "outputs": [],
   "source": [
    "# Cluster Analysis\n",
    "penguins_numeric = penguins_df.drop(columns=[\"sex\"])\n",
    "\n",
    "scaler = StandardScaler()\n",
    "penguins_scaled = scaler.fit_transform(penguins_numeric)  \n",
    "\n",
    "# Determine reasonable number of clusters (elbow method)\n",
    "inertia = []\n",
    "for k in range(1, 10):\n",
    "    kmeans = KMeans(n_clusters=k, random_state=42)\n",
    "    kmeans.fit(penguins_scaled)\n",
    "    inertia.append(kmeans.inertia_)\n",
    "\n",
    "# Elbow curve\n",
    "plt.figure(figsize=(6,4))\n",
    "plt.plot(range(1,10), inertia, marker='o')\n",
    "plt.xlabel('Number of clusters')\n",
    "plt.ylabel('Inertia')\n",
    "plt.title('Elbow Method for Optimal k')\n",
    "plt.show()\n",
    "\n",
    "# Clusters\n",
    "k = 4\n",
    "kmeans = KMeans(n_clusters=k, random_state=42)\n",
    "clusters = kmeans.fit_predict(penguins_scaled)\n",
    "\n",
    "penguins_numeric['cluster'] = clusters\n",
    "\n",
    "stat_penguins = penguins_numeric.groupby('cluster').mean()\n",
    "\n",
    "print(stat_penguins)"
   ]
  }
 ],
 "metadata": {
  "language_info": {
   "name": "python"
  }
 },
 "nbformat": 4,
 "nbformat_minor": 5
}
