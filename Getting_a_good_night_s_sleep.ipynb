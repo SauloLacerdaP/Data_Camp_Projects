{
 "cells": [
  {
   "cell_type": "markdown",
   "id": "8e8ff948",
   "metadata": {},
   "source": []
  },
  {
   "cell_type": "markdown",
   "id": "aaa5ea0e",
   "metadata": {},
   "source": [
    "Your client, SleepInc, has shared anonymized sleep data from their hot new sleep tracking app SleepScope. As their data science consultant, your mission is to analyze the lifestyle survey data with Python to discover relationships between exercise, gender, occupation, and sleep quality. See if you can identify patterns leading to insights on sleep quality.\n",
    "\n",
    "## 💾 The data: sleep_health_data.csv\n",
    "\n",
    "SleepInc has provided you with an anonymized dataset of sleep and lifestyle metrics for 374 individuals. This dataset contains average values for each person calculated over the past six months. The data is saved as `sleep_health_data.csv`.\n",
    "\n",
    "The dataset includes 13 columns covering sleep duration, quality, disorders, exercise, stress, diet, demographics, and other factors related to sleep health. \n",
    "\n",
    "| Column | Description |\n",
    "|---------|----------------------------------------|  \n",
    "| `Person ID` | An identifier for each individual. |\n",
    "| `Gender` | The gender of the person (Male/Female). |  \n",
    "| `Age` | The age of the person in years. |\n",
    "| `Occupation` | The occupation or profession of the person. |\n",
    "| `Sleep Duration (hours)` | The average number of hours the person sleeps per day. |\n",
    "| `Quality of Sleep (scale: 1-10)` | A subjective rating of the quality of sleep, ranging from 1 to 10. |\n",
    "| `Physical Activity Level (minutes/day)` | The average number of minutes the person engages in physical activity daily. |  \n",
    "| `Stress Level (scale: 1-10)` | A subjective rating of the stress level experienced by the person, ranging from 1 to 10. |\n",
    "| `BMI Category` | The BMI category of the person (e.g., Underweight, Normal, Overweight). |\n",
    "| `Blood Pressure (systolic/diastolic)` | The average blood pressure measurement of the person, indicated as systolic pressure over diastolic pressure. |\n",
    "| `Heart Rate (bpm)` | The average resting heart rate of the person in beats per minute. |\n",
    "| `Daily Steps` | The average number of steps the person takes per day. |\n",
    "| `Sleep Disorder` | The presence or absence of a sleep disorder in the person (None, Insomnia, Sleep Apnea). |"
   ]
  },
  {
   "cell_type": "code",
   "execution_count": null,
   "id": "bd17abd8",
   "metadata": {},
   "outputs": [],
   "source": [
    "# Start coding here\n",
    "import pandas as pd\n",
    "\n",
    "sleep = pd.read_csv(\"sleep_health_data.csv\")\n",
    "sleep.head()"
   ]
  },
  {
   "cell_type": "code",
   "execution_count": null,
   "id": "f3777b6f",
   "metadata": {},
   "outputs": [],
   "source": [
    "# Which occupation has the lowest average sleep duration? Save this in a string variable called lowest_sleep_occ\n",
    "lowest_sleep_occ = sleep.groupby(\"Occupation\")[\"Sleep Duration\"].mean().idxmin()"
   ]
  },
  {
   "cell_type": "code",
   "execution_count": null,
   "id": "c4c45460",
   "metadata": {},
   "outputs": [],
   "source": [
    "# Which occupation has the lowest average sleep quality? Save this in a string variable called lowest_sleep_quality_occ\n",
    "lowest_sleep_quality_occ = sleep.groupby(\"Occupation\")[\"Quality of Sleep\"].mean().idxmin()\n",
    "same_occ= True"
   ]
  },
  {
   "cell_type": "code",
   "execution_count": null,
   "id": "3e0ef3db",
   "metadata": {},
   "outputs": [],
   "source": [
    "# Let's explore how BMI Category can affect sleep disorder rates. Start by finding what ratio of app users in each BMI Category have been diagnosed with Insomnia.\n",
    "insomnia_ratio = (sleep[sleep[\"Sleep Disorder\"] == \"Insomnia\"].groupby(\"BMI Category\").size() / sleep.groupby(\"BMI Category\").size()).round(2)\n",
    "insomnia_ratio\n",
    "\n",
    "bmi_insomnia_ratios = {\"Normal\": insomnia_ratio[\"Normal\"],\"Overweight\": insomnia_ratio[\"Overweight\"], \"Obese\": insomnia_ratio[\"Obese\"]}"
   ]
  }
 ],
 "metadata": {
  "language_info": {
   "name": "python"
  }
 },
 "nbformat": 4,
 "nbformat_minor": 5
}
