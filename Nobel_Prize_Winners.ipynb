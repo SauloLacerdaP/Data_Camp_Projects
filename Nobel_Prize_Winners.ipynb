{
 "cells": [
  {
   "cell_type": "markdown",
   "id": "d1097c74",
   "metadata": {},
   "source": [
    "The Nobel Prize has been among the most prestigious international awards since 1901. Each year, awards are bestowed in chemistry, literature, physics, physiology or medicine, economics, and peace. In addition to the honor, prestige, and substantial prize money, the recipient also gets a gold medal with an image of Alfred Nobel (1833 - 1896), who established the prize.\n",
    "\n",
    "\n",
    "The Nobel Foundation has made a dataset available of all prize winners from the outset of the awards from 1901 to 2023. The dataset used in this project is from the Nobel Prize API and is available in the `nobel.csv` file in the `data` folder.\n",
    "\n",
    "In this project, you'll get a chance to explore and answer several questions related to this prizewinning data. And we encourage you then to explore further questions that you're interested in!"
   ]
  },
  {
   "cell_type": "code",
   "execution_count": null,
   "id": "e3ba6ed2",
   "metadata": {},
   "outputs": [],
   "source": [
    "# Loading in required libraries\n",
    "import pandas as pd\n",
    "import seaborn as sns\n",
    "import numpy as np\n",
    "\n",
    "# Importing data\n",
    "nobel_prize = pd.read_csv(\"data/nobel.csv\")\n",
    "nobel_prize.head()"
   ]
  },
  {
   "cell_type": "code",
   "execution_count": null,
   "id": "43141b19",
   "metadata": {},
   "outputs": [],
   "source": [
    "## What is the most commonly awarded gender and birth country?\n",
    "top_gender = nobel_prize[\"sex\"].value_counts().idxmax()\n",
    "top_country = nobel_prize[\"birth_country\"].value_counts().idxmax()"
   ]
  },
  {
   "cell_type": "code",
   "execution_count": null,
   "id": "b6a7ed9a",
   "metadata": {},
   "outputs": [],
   "source": [
    "## Which decade had the highest ratio of US-born Nobel Prize winners to total winners in all categories?\n",
    "nobel_us = nobel_prize[(nobel_prize[\"birth_country\"] == \"United States of America\")]\n",
    "nobel_us[\"decade\"] = (nobel_us[\"year\"] // 10) * 10\n",
    "max_decade_usa= nobel_us[\"decade\"].value_counts().idxmax()"
   ]
  },
  {
   "cell_type": "code",
   "execution_count": null,
   "id": "0bab05ed",
   "metadata": {},
   "outputs": [],
   "source": [
    "## Which decade and Nobel Prize category combination had the highest proportion of female laureates?\n",
    "nobel_prize[\"decade\"] = (nobel_prize[\"year\"] // 10) * 10\n",
    "\n",
    "# Total nobel prize per decade and category\n",
    "total_counts = nobel_prize.groupby([\"decade\", \"category\"]).size().reset_index(name=\"total\")\n",
    "\n",
    "# Female Nobel Prize winners by decade and category\n",
    "female_laureates = nobel_prize[(nobel_prize[\"sex\"] == \"Female\")]\n",
    "female_counts = female_laureates.groupby([\"decade\", \"category\"]).size().reset_index(name=\"female_prizes\")\n",
    "\n",
    "# Merge\n",
    "female_ratio = female_counts.merge(total_counts, on=[\"decade\", \"category\"])\n",
    "female_ratio[\"female_proportion\"] = female_ratio[\"female_prizes\"] / female_ratio[\"total\"]\n",
    "\n",
    "# Highest Proportion of female laureates\n",
    "max_female = female_ratio.loc[female_ratio[\"female_proportion\"].idxmax()]\n",
    "max_female_dict = {int(max_female[\"decade\"]): max_female[\"category\"]}"
   ]
  },
  {
   "cell_type": "code",
   "execution_count": null,
   "id": "d4e791dd",
   "metadata": {},
   "outputs": [],
   "source": [
    "## Who was the first woman to receive a Nobel Prize, and in what category?\n",
    "first_woman = female_laureates.sort_values(\"year\").iloc[0]\n",
    "first_woman_name = first_woman[\"full_name\"]\n",
    "first_woman_category = first_woman[\"category\"]"
   ]
  },
  {
   "cell_type": "code",
   "execution_count": null,
   "id": "017d0824",
   "metadata": {},
   "outputs": [],
   "source": [
    "## Which individuals or organizations have won more than one Nobel Prize throughout the years?\n",
    "name_counts = nobel_prize[\"full_name\"].value_counts()\n",
    "repeat = nobel_prize[nobel_prize[\"full_name\"].isin(name_counts[name_counts > 1].index)]\n",
    "repeat_list = repeat[\"full_name\"].unique().tolist()"
   ]
  }
 ],
 "metadata": {
  "language_info": {
   "name": "python"
  }
 },
 "nbformat": 4,
 "nbformat_minor": 5
}
