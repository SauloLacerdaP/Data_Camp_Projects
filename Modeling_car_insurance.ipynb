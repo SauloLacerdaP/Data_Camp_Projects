{
 "cells": [
  {
   "cell_type": "markdown",
   "id": "3a932c06",
   "metadata": {},
   "source": [
    "Insurance companies invest a lot of time and money into optimizing their pricing and accurately estimating the likelihood that customers will make a claim. In many countries insurance it is a legal requirement to have car insurance in order to drive a vehicle on public roads, so the market is very large!\n",
    "\n",
    "(`Source: https://www.accenture.com/_acnmedia/pdf-84/accenture-machine-leaning-insurance.pdf`) \n",
    "\n",
    "Knowing all of this, On the Road car insurance have requested your services in building a model to predict whether a customer will make a claim on their insurance during the policy period. As they have very little expertise and infrastructure for deploying and monitoring machine learning models, they've asked you to identify the single feature that results in the best performing model, as measured by accuracy, so they can start with a simple model in production.\n",
    "\n",
    "They have supplied you with their customer data as a csv file called `car_insurance.csv`, along with a table detailing the column names and descriptions below."
   ]
  },
  {
   "cell_type": "markdown",
   "id": "23d0e7c2",
   "metadata": {},
   "source": [
    "\n",
    "\n",
    "## The dataset\n",
    "\n",
    "| Column | Description |\n",
    "|--------|-------------|\n",
    "| `id` | Unique client identifier |\n",
    "| `age` | Client's age: <br> <ul><li>`0`: 16-25</li><li>`1`: 26-39</li><li>`2`: 40-64</li><li>`3`: 65+</li></ul> |\n",
    "| `gender` | Client's gender: <br> <ul><li>`0`: Female</li><li>`1`: Male</li></ul> |\n",
    "| `driving_experience` | Years the client has been driving: <br> <ul><li>`0`: 0-9</li><li>`1`: 10-19</li><li>`2`: 20-29</li><li>`3`: 30+</li></ul> |\n",
    "| `education` | Client's level of education: <br> <ul><li>`0`: No education</li><li>`1`: High school</li><li>`2`: University</li></ul> |\n",
    "| `income` | Client's income level: <br> <ul><li>`0`: Poverty</li><li>`1`: Working class</li><li>`2`: Middle class</li><li>`3`: Upper class</li></ul> |\n",
    "| `credit_score` | Client's credit score (between zero and one) |\n",
    "| `vehicle_ownership` | Client's vehicle ownership status: <br><ul><li>`0`: Does not own their vehilce (paying off finance)</li><li>`1`: Owns their vehicle</li></ul> |\n",
    "| `vehcile_year` | Year of vehicle registration: <br><ul><li>`0`: Before 2015</li><li>`1`: 2015 or later</li></ul> |\n",
    "| `married` | Client's marital status: <br><ul><li>`0`: Not married</li><li>`1`: Married</li></ul> |\n",
    "| `children` | Client's number of children |\n",
    "| `postal_code` | Client's postal code | \n",
    "| `annual_mileage` | Number of miles driven by the client each year |\n",
    "| `vehicle_type` | Type of car: <br> <ul><li>`0`: Sedan</li><li>`1`: Sports car</li></ul> |\n",
    "| `speeding_violations` | Total number of speeding violations received by the client | \n",
    "| `duis` | Number of times the client has been caught driving under the influence of alcohol |\n",
    "| `past_accidents` | Total number of previous accidents the client has been involved in |\n",
    "| `outcome` | Whether the client made a claim on their car insurance (response variable): <br><ul><li>`0`: No claim</li><li>`1`: Made a claim</li></ul> |"
   ]
  },
  {
   "cell_type": "code",
   "execution_count": null,
   "id": "c2f0c17d",
   "metadata": {},
   "outputs": [],
   "source": [
    "# Import required modules\n",
    "import pandas as pd\n",
    "import numpy as np\n",
    "from statsmodels.formula.api import logit\n",
    "\n",
    "car_insurance = pd.read_csv(\"car_insurance.csv\")\n",
    "print(car_insurance.head())"
   ]
  },
  {
   "cell_type": "code",
   "execution_count": null,
   "id": "10992ced",
   "metadata": {},
   "outputs": [],
   "source": [
    "# Identifying the feature of the data that is the best predictor\n",
    "results = []\n",
    "\n",
    "for col in car_insurance.columns:\n",
    "    if col != \"outcome\":\n",
    "        mdl = logit(f\"outcome ~ {col}\", data=car_insurance).fit(disp=0)\n",
    "        params = mdl.params.rename(col)  \n",
    "        results.append({\"variable\": col, \"pseudo_r2\": mdl.prsquared})\n",
    "\n",
    "results_df = pd.DataFrame(results)\n",
    "best_row = results_df.loc[results_df[\"pseudo_r2\"].idxmax()]\n",
    "print(best_row)"
   ]
  },
  {
   "cell_type": "code",
   "execution_count": null,
   "id": "fb1acf44",
   "metadata": {},
   "outputs": [],
   "source": [
    "# Calculating the accuracy and storing as a DataFrame\n",
    "actual_response = car_insurance[\"outcome\"]\n",
    "mdl = logit(\"outcome ~ driving_experience\", data=car_insurance).fit()\n",
    "predicted_response = np.round(mdl.predict())\n",
    "\n",
    "conf_matrix = mdl.pred_table()\n",
    "print(conf_matrix)\n",
    "TN = conf_matrix[0,0]\n",
    "TP = conf_matrix[1,1]\n",
    "FN = conf_matrix[1,0]\n",
    "FP = conf_matrix[0,1]\n",
    "\n",
    "accuracy = (TN+TP)/(TN+TP+FN+FP)\n",
    "\n",
    "best_feature_df = pd.DataFrame({\n",
    "    \"best_feature\": [best_row[\"variable\"]], \"best_accuracy\": accuracy\n",
    "})\n",
    "print(best_feature_df)"
   ]
  }
 ],
 "metadata": {
  "language_info": {
   "name": "python"
  }
 },
 "nbformat": 4,
 "nbformat_minor": 5
}
