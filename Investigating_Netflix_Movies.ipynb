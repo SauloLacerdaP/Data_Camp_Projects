{
 "cells": [
  {
   "cell_type": "markdown",
   "id": "413f4cb0",
   "metadata": {},
   "source": [
    "**Netflix**! What started in 1997 as a DVD rental service has since exploded into one of the largest entertainment and media companies.\n",
    "\n",
    "Given the large number of movies and series available on the platform, it is a perfect opportunity to flex your exploratory data analysis skills and dive into the entertainment industry.\n",
    "\n",
    "You work for a production company that specializes in nostalgic styles. You want to do some research on movies released in the 1990's. You'll delve into Netflix data and perform exploratory data analysis to better understand this awesome movie decade!\n",
    "\n",
    "You have been supplied with the dataset `netflix_data.csv`, along with the following table detailing the column names and descriptions. Feel free to experiment further after submitting!\n",
    "\n",
    "## The data\n",
    "### **netflix_data.csv**\n",
    "| Column | Description |\n",
    "|--------|-------------|\n",
    "| `show_id` | The ID of the show |\n",
    "| `type` | Type of show |\n",
    "| `title` | Title of the show |\n",
    "| `director` | Director of the show |\n",
    "| `cast` | Cast of the show |\n",
    "| `country` | Country of origin |\n",
    "| `date_added` | Date added to Netflix |\n",
    "| `release_year` | Year of Netflix release |\n",
    "| `duration` | Duration of the show in minutes |\n",
    "| `description` | Description of the show |\n",
    "| `genre` | Show genre |"
   ]
  },
  {
   "cell_type": "code",
   "execution_count": null,
   "id": "e452bca7",
   "metadata": {},
   "outputs": [],
   "source": [
    "# Importing pandas and matplotlib\n",
    "import pandas as pd\n",
    "import matplotlib.pyplot as plt\n",
    "\n",
    "# Read in the Netflix CSV as a DataFrame\n",
    "netflix_df = pd.read_csv(\"netflix_data.csv\")\n",
    "netflix_df.head()"
   ]
  },
  {
   "cell_type": "code",
   "execution_count": null,
   "id": "3a906805",
   "metadata": {},
   "outputs": [],
   "source": [
    "## Duration of Movies in the 1990s\n",
    "netflix_90s = netflix_df[(netflix_df['release_year']>=1990) & (netflix_df['release_year']<=1999)]\n",
    "duration = netflix_90s['duration'].mode().iloc[0]\n",
    "plt.hist(netflix_90s.duration, bins=30, color='skyblue', edgecolor='black')\n",
    "plt.title('Distribuição da Duração dos Filmes (1990–1999)', fontsize=14)\n",
    "plt.xlabel('Duração (minutos)', fontsize=12)\n",
    "plt.ylabel('Número de Filmes', fontsize=12)\n",
    "plt.axvline(duration, color='red', linestyle='dashed', linewidth=1.5)\n",
    "plt.show()\n",
    "print(duration)"
   ]
  },
  {
   "cell_type": "code",
   "execution_count": null,
   "id": "cba37cae",
   "metadata": {},
   "outputs": [],
   "source": [
    "# Counting Short Action Movies\n",
    "action_movies = netflix_90s[(netflix_90s['type']=='Movie') & (netflix_90s['genre']=='Action')]\n",
    "action_movies.head()\n",
    "short_movies = action_movies[action_movies['duration'] < 90]\n",
    "short_movie_counts = short_movies.value_counts().sum()\n",
    "print(short_movie_counts)"
   ]
  }
 ],
 "metadata": {
  "kernelspec": {
   "display_name": "base",
   "language": "python",
   "name": "python3"
  },
  "language_info": {
   "codemirror_mode": {
    "name": "ipython",
    "version": 3
   },
   "file_extension": ".py",
   "mimetype": "text/x-python",
   "name": "python",
   "nbconvert_exporter": "python",
   "pygments_lexer": "ipython3",
   "version": "3.12.7"
  }
 },
 "nbformat": 4,
 "nbformat_minor": 5
}
