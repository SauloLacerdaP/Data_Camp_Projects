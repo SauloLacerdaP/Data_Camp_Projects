{
 "cells": [
  {
   "cell_type": "markdown",
   "id": "b97462cb",
   "metadata": {},
   "source": [
    "Los Angeles, California 😎. The City of Angels. Tinseltown. The Entertainment Capital of the World! \n",
    "\n",
    "Known for its warm weather, palm trees, sprawling coastline, and Hollywood, along with producing some of the most iconic films and songs. However, as with any highly populated city, it isn't always glamorous and there can be a large volume of crime. That's where you can help!\n",
    "\n",
    "You have been asked to support the Los Angeles Police Department (LAPD) by analyzing crime data to identify patterns in criminal behavior. They plan to use your insights to allocate resources effectively to tackle various crimes in different areas.\n",
    "\n",
    "## The Data\n",
    "\n",
    "They have provided you with a single dataset to use. A summary and preview are provided below.\n",
    "\n",
    "It is a modified version of the original data, which is publicly available from Los Angeles Open Data.\n",
    "\n",
    "# crimes.csv\n",
    "\n",
    "| Column     | Description              |\n",
    "|------------|--------------------------|\n",
    "| `'DR_NO'` | Division of Records Number: Official file number made up of a 2-digit year, area ID, and 5 digits. |\n",
    "| `'Date Rptd'` | Date reported - MM/DD/YYYY. |\n",
    "| `'DATE OCC'` | Date of occurrence - MM/DD/YYYY. |\n",
    "| `'TIME OCC'` | In 24-hour military time. |\n",
    "| `'AREA NAME'` | The 21 Geographic Areas or Patrol Divisions are also given a name designation that references a landmark or the surrounding community that it is responsible for. For example, the 77th Street Division is located at the intersection of South Broadway and 77th Street, serving neighborhoods in South Los Angeles. |\n",
    "| `'Crm Cd Desc'` | Indicates the crime committed. |\n",
    "| `'Vict Age'` | Victim's age in years. |\n",
    "| `'Vict Sex'` | Victim's sex: `F`: Female, `M`: Male, `X`: Unknown. |\n",
    "| `'Vict Descent'` | Victim's descent:<ul><li>`A` - Other Asian</li><li>`B` - Black</li><li>`C` - Chinese</li><li>`D` - Cambodian</li><li>`F` - Filipino</li><li>`G` - Guamanian</li><li>`H` - Hispanic/Latin/Mexican</li><li>`I` - American Indian/Alaskan Native</li><li>`J` - Japanese</li><li>`K` - Korean</li><li>`L` - Laotian</li><li>`O` - Other</li><li>`P` - Pacific Islander</li><li>`S` - Samoan</li><li>`U` - Hawaiian</li><li>`V` - Vietnamese</li><li>`W` - White</li><li>`X` - Unknown</li><li>`Z` - Asian Indian</li> |\n",
    "| `'Weapon Desc'` | Description of the weapon used (if applicable). |\n",
    "| `'Status Desc'` | Crime status. |\n",
    "| `'LOCATION'` | Street address of the crime. |"
   ]
  },
  {
   "cell_type": "code",
   "execution_count": null,
   "id": "2214ac52",
   "metadata": {},
   "outputs": [],
   "source": [
    "# Re-run this cell\n",
    "# Import required libraries\n",
    "import pandas as pd\n",
    "import numpy as np\n",
    "import matplotlib.pyplot as plt\n",
    "import seaborn as sns\n",
    "crimes = pd.read_csv(\"crimes.csv\", dtype={\"TIME OCC\": str})\n",
    "crimes.head(20)"
   ]
  },
  {
   "cell_type": "code",
   "execution_count": null,
   "id": "a419ab24",
   "metadata": {},
   "outputs": [],
   "source": [
    "# Which hour has the highest frequency of crimes? Store as an integer variable called peak_crime_hour\n",
    "crimes[\"TIME OCC\"] = crimes[\"TIME OCC\"].astype(int)\n",
    "crimes[\"HOUR\"] = (crimes[\"TIME OCC\"] // 100)\n",
    "peak_crime_hour = crimes[\"HOUR\"].value_counts().idxmax()\n",
    "print(peak_crime_hour)"
   ]
  },
  {
   "cell_type": "code",
   "execution_count": null,
   "id": "4e57cfff",
   "metadata": {},
   "outputs": [],
   "source": [
    "# Which area has the largest frequency of night crimes (crimes committed between 10pm and 3:59am)? Save as a string variable called peak_night_crime_location\n",
    "night_crimes = crimes[(crimes[\"HOUR\"] > 22) | (crimes[\"HOUR\"] < 4)]\n",
    "night_crime_areas = night_crimes.groupby(\"AREA NAME\").size()\n",
    "peak_night_crime_location = night_crime_areas.idxmax()\n",
    "print(peak_night_crime_location)\n"
   ]
  },
  {
   "cell_type": "code",
   "execution_count": null,
   "id": "4bbac1ec",
   "metadata": {},
   "outputs": [],
   "source": [
    "# Identify the number of crimes committed against victims of different age groups. Save as a pandas Series called victim_ages, with age group labels \"0-17\", \"18-25\", \"26-34\", \"35-44\", \"45-54\", \"55-64\", and \"65+\" as the index and the frequency of crimes as the values.\n",
    "bins = [0, 17, 25, 34, 44, 54, 64, 200]\n",
    "labels = [\"0-17\", \"18-25\", \"26-34\", \"35-44\", \"45-54\", \"55-64\", \"65+\"]\n",
    "\n",
    "crimes[\"AGE GROUP\"] = pd.cut(crimes[\"Vict Age\"], bins=bins, labels=labels, right=True)\n",
    "\n",
    "victim_ages = crimes[\"AGE GROUP\"].value_counts().reindex(labels, fill_value=0)\n",
    "\n",
    "print(victim_ages)"
   ]
  }
 ],
 "metadata": {
  "language_info": {
   "name": "python"
  }
 },
 "nbformat": 4,
 "nbformat_minor": 5
}
