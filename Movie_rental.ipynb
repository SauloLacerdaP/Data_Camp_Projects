{
 "cells": [
  {
   "cell_type": "markdown",
   "id": "63c2a9d1",
   "metadata": {},
   "source": [
    "A DVD rental company needs your help! They want to figure out how many days a customer will rent a DVD for based on some features and has approached you for help. They want you to try out some regression models which will help predict the number of days a customer will rent a DVD for. The company wants a model which yeilds a MSE of 3 or less on a test set. The model you make will help the company become more efficient inventory planning.\n",
    "\n",
    "The data they provided is in the csv file `rental_info.csv`. It has the following features:\n",
    "- `\"rental_date\"`: The date (and time) the customer rents the DVD.\n",
    "- `\"return_date\"`: The date (and time) the customer returns the DVD.\n",
    "- `\"amount\"`: The amount paid by the customer for renting the DVD.\n",
    "- `\"amount_2\"`: The square of `\"amount\"`.\n",
    "- `\"rental_rate\"`: The rate at which the DVD is rented for.\n",
    "- `\"rental_rate_2\"`: The square of `\"rental_rate\"`.\n",
    "- `\"release_year\"`: The year the movie being rented was released.\n",
    "- `\"length\"`: Lenght of the movie being rented, in minuites.\n",
    "- `\"length_2\"`: The square of `\"length\"`.\n",
    "- `\"replacement_cost\"`: The amount it will cost the company to replace the DVD.\n",
    "- `\"special_features\"`: Any special features, for example trailers/deleted scenes that the DVD also has.\n",
    "- `\"NC-17\"`, `\"PG\"`, `\"PG-13\"`, `\"R\"`: These columns are dummy variables of the rating of the movie. It takes the value 1 if the move is rated as the column name and 0 otherwise. For your convinience, the reference dummy has already been dropped."
   ]
  },
  {
   "cell_type": "code",
   "execution_count": null,
   "id": "c8c7af46",
   "metadata": {},
   "outputs": [],
   "source": [
    "import pandas as pd\n",
    "import numpy as np\n",
    "\n",
    "from sklearn.model_selection import train_test_split\n",
    "from sklearn.metrics import mean_squared_error as MSE\n",
    "from sklearn.ensemble import GradientBoostingRegressor\n",
    "\n",
    "rental= pd.read_csv(\"rental_info.csv\")"
   ]
  },
  {
   "cell_type": "code",
   "execution_count": null,
   "id": "c40126d7",
   "metadata": {},
   "outputs": [],
   "source": [
    "# Creating a column named \"rental_lenght_car\"\n",
    "rental[\"rental_date\"] = pd.to_datetime(rental[\"rental_date\"])\n",
    "rental[\"return_date\"] = pd.to_datetime(rental[\"return_date\"])\n",
    "\n",
    "# Calcular diferença em dias\n",
    "rental[\"rental_length_days\"] = (rental[\"return_date\"] - rental[\"rental_date\"]).dt.days\n"
   ]
  },
  {
   "cell_type": "code",
   "execution_count": null,
   "id": "d084160c",
   "metadata": {},
   "outputs": [],
   "source": [
    "rental['special_features_clean'] = rental['special_features'].str.replace(r'[{}\"]', '', regex=True)\n",
    "\n",
    "rental['deleted_scenes'] = rental['special_features_clean'].str.contains('Deleted Scenes', na=False).astype(int)\n",
    "rental['behind_the_scenes'] = rental['special_features_clean'].str.contains('Behind the Scenes', na=False).astype(int)\n"
   ]
  },
  {
   "cell_type": "code",
   "execution_count": null,
   "id": "55d92478",
   "metadata": {},
   "outputs": [],
   "source": [
    "# Spliting training and test data\n",
    "X = rental.drop([\"rental_length_days\", \"special_features\", \"rental_date\", \"return_date\", \"special_features_clean\"], axis=1)\n",
    "y = rental[\"rental_length_days\"]\n",
    "\n",
    "X_train, X_test, y_train, y_test = train_test_split(X,y,test_size=0.2, stratify=y, random_state=9)\n"
   ]
  },
  {
   "cell_type": "code",
   "execution_count": null,
   "id": "458dbc41",
   "metadata": {},
   "outputs": [],
   "source": [
    "# Model\n",
    "best_model = GradientBoostingRegressor(max_depth=1,\n",
    "                                subsample=0.8,\n",
    "                                max_features=0.2,\n",
    "                                n_estimators=300,\n",
    "                                random_state=9)\n",
    "best_model.fit(X_train, y_train)\n",
    "y_pred = best_model.predict(X_test)\n",
    "best_mse = MSE(y_test, y_pred)\n",
    "print(f\"The best model is {best_model} and the best MSE is {best_mse}\")"
   ]
  }
 ],
 "metadata": {
  "language_info": {
   "name": "python"
  }
 },
 "nbformat": 4,
 "nbformat_minor": 5
}
