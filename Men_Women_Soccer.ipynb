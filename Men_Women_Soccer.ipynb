{
 "cells": [
  {
   "cell_type": "markdown",
   "id": "eeeba073",
   "metadata": {},
   "source": [
    "You're working as a sports journalist at a major online sports media company, specializing in soccer analysis and reporting. You've been watching both men's and women's international soccer matches for a number of years, and your gut instinct tells you that more goals are scored in women's international football matches than men's. This would make an interesting investigative article that your subscribers are bound to love, but you'll need to perform a valid statistical hypothesis test to be sure!\n",
    "\n",
    "While scoping this project, you acknowledge that the sport has changed a lot over the years, and performances likely vary a lot depending on the tournament, so you decide to limit the data used in the analysis to only official `FIFA World Cup` matches (not including qualifiers) since `2002-01-01`.\n",
    "\n",
    "You create two datasets containing the results of every official men's and women's international football match since the 19th century, which you scraped from a reliable online source. This data is stored in two CSV files: `women_results.csv` and `men_results.csv`.\n",
    "\n",
    "The question you are trying to determine the answer to is:\n",
    "\n",
    "> Are more goals scored in women's international soccer matches than men's?\n",
    "\n",
    "You assume a **10% significance level**, and use the following null and alternative hypotheses:\n",
    "\n",
    "$H_0$ : The mean number of goals scored in women's international soccer matches is the same as men's.\n",
    "\n",
    "$H_A$ : The mean number of goals scored in women's international soccer matches is greater than men's."
   ]
  },
  {
   "cell_type": "code",
   "execution_count": null,
   "id": "089dcf14",
   "metadata": {
    "vscode": {
     "languageId": "plaintext"
    }
   },
   "outputs": [],
   "source": [
    "# Start your code here!\n",
    "import pandas as pd\n",
    "import numpy as np\n",
    "import matplotlib.pyplot as plt\n",
    "import scipy.stats as mannwhitneyu\n",
    "from scipy.stats import shapiro\n"
   ]
  },
  {
   "cell_type": "code",
   "execution_count": null,
   "id": "d7e9c0d9",
   "metadata": {
    "vscode": {
     "languageId": "plaintext"
    }
   },
   "outputs": [],
   "source": [
    "men = pd.read_csv(\"men_results.csv\")\n",
    "women = pd.read_csv(\"women_results.csv\")"
   ]
  },
  {
   "cell_type": "code",
   "execution_count": null,
   "id": "6a2a0cef",
   "metadata": {
    "vscode": {
     "languageId": "plaintext"
    }
   },
   "outputs": [],
   "source": [
    "# Filter the data for the time range and tournament\n",
    "men[\"date\"] = pd.to_datetime(men[\"date\"])\n",
    "men_subset = men[(men[\"date\"] > \"2002-01-01\") & (men[\"tournament\"].isin([\"FIFA World Cup\"]))]\n",
    "women[\"date\"] = pd.to_datetime(women[\"date\"])\n",
    "women_subset = women[(women[\"date\"] > \"2002-01-01\") & (women[\"tournament\"].isin([\"FIFA World Cup\"]))]\n",
    "\n",
    "men_subset.head()"
   ]
  },
  {
   "cell_type": "code",
   "execution_count": null,
   "id": "4963e12c",
   "metadata": {
    "vscode": {
     "languageId": "plaintext"
    }
   },
   "outputs": [],
   "source": [
    "# Goals scored in women's and men's soccer matches\n",
    "men_subset[\"goals_scored\"] = (men_subset[\"home_score\"] + men_subset[\"away_score\"])\n",
    "\n",
    "women_subset[\"goals_scored\"] = (women_subset[\"home_score\"] + women_subset[\"away_score\"])"
   ]
  },
  {
   "cell_type": "code",
   "execution_count": null,
   "id": "d2cb9797",
   "metadata": {
    "vscode": {
     "languageId": "plaintext"
    }
   },
   "outputs": [],
   "source": [
    "# MEAN Goals scored\n",
    "men_mean_goals = men_subset[\"goals_scored\"].mean()\n",
    "women_mean_goals = women_subset[\"goals_scored\"].mean()\n",
    "\n",
    "print(f\"MEN: {men_mean_goals}\")\n",
    "print(f\"WOMEN: {women_mean_goals}\")"
   ]
  },
  {
   "cell_type": "code",
   "execution_count": null,
   "id": "6f3990bc",
   "metadata": {
    "vscode": {
     "languageId": "plaintext"
    }
   },
   "outputs": [],
   "source": [
    "# Shapiro for men\n",
    "stat, p_value = shapiro(men_subset[\"goals_scored\"])\n",
    "\n",
    "print(\"Shapiro-Wilk statistic =\", stat)\n",
    "print(\"p-value =\", p_value)\n",
    "\n",
    "if p_value > 0.05:\n",
    "    print(\"Fail to reject H0: data looks normal.\")\n",
    "else:\n",
    "    print(\"Reject H0: data does not look normal.\")"
   ]
  },
  {
   "cell_type": "code",
   "execution_count": null,
   "id": "7355ccda",
   "metadata": {
    "vscode": {
     "languageId": "plaintext"
    }
   },
   "outputs": [],
   "source": [
    "# Shapiro for women\n",
    "stat, p_value = shapiro(women_subset[\"goals_scored\"])\n",
    "\n",
    "print(\"Shapiro-Wilk statistic =\", stat)\n",
    "print(\"p-value =\", p_value)\n",
    "\n",
    "if p_value > 0.05:\n",
    "    print(\"Fail to reject H0: data looks normal.\")\n",
    "else:\n",
    "    print(\"Reject H0: data does not look normal.\")"
   ]
  },
  {
   "cell_type": "code",
   "execution_count": null,
   "id": "68adf998",
   "metadata": {
    "vscode": {
     "languageId": "plaintext"
    }
   },
   "outputs": [],
   "source": [
    "# Mann Whitney\n",
    "goals_women = women_subset[\"goals_scored\"]\n",
    "goals_men = men_subset[\"goals_scored\"]\n",
    "t_stat, p_val = stats.mannwhitneyu(goals_women, goals_men, alternative=\"greater\")\n",
    "\n",
    "print(\"t-statistic =\", t_stat)\n",
    "print(\"p-value =\", p_value)\n",
    "\n",
    "alpha = 0.1\n",
    "if p_val < alpha:\n",
    "    print(\"The means are significantly different.\")\n",
    "else:\n",
    "    print(\"There is not enough evidence to say the means are different.\")\n",
    "\n",
    "result_dict = {\"p_val\": p_val, \"result\": \"reject\"}\n",
    "print(result_dict)"
   ]
  }
 ],
 "metadata": {
  "language_info": {
   "name": "python"
  }
 },
 "nbformat": 4,
 "nbformat_minor": 5
}
