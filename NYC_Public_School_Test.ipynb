{
 "cells": [
  {
   "cell_type": "markdown",
   "id": "00b61bbe",
   "metadata": {},
   "source": [
    "Every year, American high school students take SATs, which are standardized tests intended to measure literacy, numeracy, and writing skills. There are three sections - reading, math, and writing, each with a **maximum score of 800 points**. These tests are extremely important for students and colleges, as they play a pivotal role in the admissions process.\n",
    "\n",
    "Analyzing the performance of schools is important for a variety of stakeholders, including policy and education professionals, researchers, government, and even parents considering which school their children should attend. \n",
    "\n",
    "You have been provided with a dataset called `schools.csv`, which is previewed below.\n",
    "\n",
    "You have been tasked with answering three key questions about New York City (NYC) public school SAT performance."
   ]
  },
  {
   "cell_type": "code",
   "execution_count": null,
   "id": "fec094fe",
   "metadata": {},
   "outputs": [],
   "source": [
    "# Re-run this cell \n",
    "import pandas as pd\n",
    "\n",
    "# Read in the data\n",
    "schools = pd.read_csv(\"schools.csv\")\n",
    "\n",
    "# Preview the data\n",
    "schools.head()"
   ]
  },
  {
   "cell_type": "code",
   "execution_count": null,
   "id": "6df2330e",
   "metadata": {},
   "outputs": [],
   "source": [
    "# Which NYC schools have the best math results\n",
    "best_math_schools = schools[(schools['average_math'] >= 800*0.8)].loc[:, ['school_name', 'average_math']]  .sort_values(by= 'average_math',ascending=False).reset_index(drop=True)\n",
    "best_math_schools.index = best_math_schools.index + 1\n",
    "\n",
    "best_math_schools.head(10)"
   ]
  },
  {
   "cell_type": "code",
   "execution_count": null,
   "id": "ac15f2cc",
   "metadata": {},
   "outputs": [],
   "source": [
    "# What are the top 10 performing schools based on the combined SAT scores?\n",
    "schools['total_SAT'] = schools[['average_math', 'average_reading', 'average_writing']].sum(axis=1)\n",
    "\n",
    "top_10_schools = (schools.sort_values(by='total_SAT', ascending=False).reset_index(drop=True)).head(10).loc[:, ['school_name', 'total_SAT']]\n",
    "\n",
    "top_10_schools.index = top_10_schools.index + 1\n",
    "\n",
    "top_10_schools.head(10)"
   ]
  },
  {
   "cell_type": "code",
   "execution_count": null,
   "id": "1a329d00",
   "metadata": {},
   "outputs": [],
   "source": [
    "# Which single borough has the largest standard deviation in the combined SAT score\n",
    "largest_std_dev = (schools.dropna(subset=['borough', 'total_SAT']).groupby('borough').agg(num_schools=('total_SAT', 'size'),average_SAT=('total_SAT', 'mean'),std_SAT=('total_SAT', 'std'),)).sort_values(by='std_SAT', ascending=False).head(1).round(2)\n",
    "\n",
    "largest_std_dev.head()"
   ]
  }
 ],
 "metadata": {
  "language_info": {
   "name": "python"
  }
 },
 "nbformat": 4,
 "nbformat_minor": 5
}
