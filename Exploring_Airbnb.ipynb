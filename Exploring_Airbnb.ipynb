{
 "cells": [
  {
   "cell_type": "markdown",
   "id": "18ecca49",
   "metadata": {},
   "source": [
    "Welcome to New York City, one of the most-visited cities in the world. There are many Airbnb listings in New York City to meet the high demand for temporary lodging for travelers, which can be anywhere between a few nights to many months. In this project, we will take a closer look at the New York Airbnb market by combining data from multiple file types like `.csv`, `.tsv`, and `.xlsx`.\n",
    "\n",
    "Recall that **CSV**, **TSV**, and **Excel** files are three common formats for storing data. \n",
    "Three files containing data on 2019 Airbnb listings are available to you:\n",
    "\n",
    "**data/airbnb_price.csv**\n",
    "This is a CSV file containing data on Airbnb listing prices and locations.\n",
    "- **`listing_id`**: unique identifier of listing\n",
    "- **`price`**: nightly listing price in USD\n",
    "- **`nbhood_full`**: name of borough and neighborhood where listing is located\n",
    "\n",
    "**data/airbnb_room_type.xlsx**\n",
    "This is an Excel file containing data on Airbnb listing descriptions and room types.\n",
    "- **`listing_id`**: unique identifier of listing\n",
    "- **`description`**: listing description\n",
    "- **`room_type`**: Airbnb has three types of rooms: shared rooms, private rooms, and entire homes/apartments\n",
    "\n",
    "**data/airbnb_last_review.tsv**\n",
    "This is a TSV file containing data on Airbnb host names and review dates.\n",
    "- **`listing_id`**: unique identifier of listing\n",
    "- **`host_name`**: name of listing host\n",
    "- **`last_review`**: date when the listing was last reviewed"
   ]
  },
  {
   "cell_type": "code",
   "execution_count": null,
   "id": "702c3261",
   "metadata": {},
   "outputs": [],
   "source": [
    "# Import necessary packages\n",
    "import pandas as pd\n",
    "import numpy as np\n",
    "\n",
    "price = pd.read_csv(\"data/airbnb_price.csv\")\n",
    "rooms = pd.read_excel(\"data/airbnb_room_type.xlsx\")\n",
    "review = pd.read_csv(\"data/airbnb_last_review.tsv\", sep=\"\\t\")"
   ]
  },
  {
   "cell_type": "code",
   "execution_count": null,
   "id": "a6e664fb",
   "metadata": {},
   "outputs": [],
   "source": [
    "print(review.head())\n",
    "# print(rooms.head())\n",
    "# print(price.head())"
   ]
  },
  {
   "cell_type": "code",
   "execution_count": null,
   "id": "f2872a14",
   "metadata": {},
   "outputs": [],
   "source": [
    "# What are the dates of the earliest and most recent reviews? Store these values as two separate variables with your preferred names.\n",
    "review[\"last_review\"] = pd.to_datetime(review[\"last_review\"])\n",
    "\n",
    "earliest_review = review[\"last_review\"].min()\n",
    "latest_review   = review[\"last_review\"].max()\n",
    "\n",
    "print(\"Earliest:\", earliest_review)\n",
    "print(\"Latest:\", latest_review)"
   ]
  },
  {
   "cell_type": "code",
   "execution_count": null,
   "id": "0f129aae",
   "metadata": {},
   "outputs": [],
   "source": [
    "# How many of the listings are private rooms? Save this into any variable.\n",
    "private_rooms = (room_type['room_type'].str.lower() == 'private room').sum()\n",
    "print(private_rooms)"
   ]
  },
  {
   "cell_type": "code",
   "execution_count": null,
   "id": "9e2ff0c8",
   "metadata": {},
   "outputs": [],
   "source": [
    "# What is the average listing price? Round to the nearest two decimal places and save into a variable.\n",
    "price[['Value','Currency']] = price['price'].str.split(' ', expand=True)\n",
    "price.drop('price', axis=1, inplace=True)\n",
    "average_price = price['Value'].astype('int').mean().round(2)\n",
    "print(average_price)"
   ]
  },
  {
   "cell_type": "code",
   "execution_count": null,
   "id": "ffa16ffc",
   "metadata": {},
   "outputs": [],
   "source": [
    "# Combine the new variables into one DataFrame called review_dates with four columns in the following order: first_reviewed, last_reviewed, nb_private_rooms, and avg_price. The DataFrame should only contain one row of values.\n",
    "\n",
    "review_dates = pd.DataFrame({\n",
    "    \"first_reviewed\": [earliest_review],\n",
    "    \"last_reviewed\": [latest_review],\n",
    "    \"nb_private_rooms\": [private_rooms],\n",
    "    \"avg_price\": [average_price]\n",
    "})"
   ]
  }
 ],
 "metadata": {
  "language_info": {
   "name": "python"
  }
 },
 "nbformat": 4,
 "nbformat_minor": 5
}
